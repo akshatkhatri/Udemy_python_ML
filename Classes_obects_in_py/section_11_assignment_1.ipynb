{
 "cells": [
  {
   "cell_type": "code",
   "execution_count": 3,
   "metadata": {},
   "outputs": [
    {
     "name": "stdout",
     "output_type": "stream",
     "text": [
      "sports-car\n",
      "A-1\n",
      "2016\n"
     ]
    }
   ],
   "source": [
    "# Question 1\n",
    "\n",
    "class Car:\n",
    "    def __init__(self,make=\"Unspecified type\",model=\"unspecified model\",year = \"unspecified year\"):\n",
    "        self.make = make\n",
    "        self.model = model\n",
    "        self.year = year\n",
    "\n",
    "simple_car = Car()\n",
    "my_car = Car(\"sports-car\",\"A-1\",\"2016\")\n",
    "\n",
    "print(my_car.make)\n",
    "print(my_car.model)\n",
    "print(my_car.year)\n",
    "\n"
   ]
  },
  {
   "cell_type": "code",
   "execution_count": 4,
   "metadata": {},
   "outputs": [
    {
     "name": "stdout",
     "output_type": "stream",
     "text": [
      "sports-car with A-1 and 2016 is starting up !!\n"
     ]
    }
   ],
   "source": [
    "# Question - 2\n",
    "\n",
    "class Car:\n",
    "    def __init__(self,make=\"Unspecified type\",model=\"unspecified model\",year = \"unspecified year\"):\n",
    "        self.make = make\n",
    "        self.model = model\n",
    "        self.year = year\n",
    "\n",
    "    def start_engine(self):\n",
    "        print(f'{self.make} with {self.model} and {self.year} is starting up !!')\n",
    "\n",
    "my_car = Car(\"sports-car\",\"A-1\",\"2016\")\n",
    "my_car.start_engine()"
   ]
  },
  {
   "cell_type": "code",
   "execution_count": 5,
   "metadata": {},
   "outputs": [],
   "source": [
    "# Question - 3\n",
    "\n",
    "# same as question 1"
   ]
  },
  {
   "cell_type": "code",
   "execution_count": 10,
   "metadata": {},
   "outputs": [
    {
     "name": "stdout",
     "output_type": "stream",
     "text": [
      "Akshat\n"
     ]
    }
   ],
   "source": [
    "# Question - 4\n",
    "\n",
    "# Following an attribute with __ makes it mangled in python (mangled means harder to read if accessed)\n",
    "\n",
    "class my_class:\n",
    "    def __init__(self):\n",
    "        self.__name = \"Akshat\"\n",
    "\n",
    "myself = my_class()\n",
    "print(myself.__name)"
   ]
  },
  {
   "cell_type": "code",
   "execution_count": 19,
   "metadata": {},
   "outputs": [
    {
     "name": "stdout",
     "output_type": "stream",
     "text": [
      "1910009\n",
      "rajeshawar\n",
      "27\n",
      "[<class '__main__.Employee'>, <class '__main__.Person'>, <class 'object'>]\n"
     ]
    }
   ],
   "source": [
    "# Question - 5\n",
    "\n",
    "'''\n",
    "We will be using Python's super() method to call the parent class's method , super() calls the method of the next class\n",
    "in the MRO (memory resolution order) it uses a C3 Linearization algorithm to determine it , we can print current MRO\n",
    "by using <class_name.mro()>\n",
    "'''\n",
    "\n",
    "class Person:\n",
    "    def __init__(self,name,age):\n",
    "        self.name = name\n",
    "        self.age = age\n",
    "    \n",
    "class Employee(Person):\n",
    "    def __init__(self,name,age,employee_id):\n",
    "        super().__init__(name,age) # calls parent class constructor\n",
    "        self.employee_id = employee_id\n",
    "\n",
    "TCS_employee = Employee(\"rajeshawar\",27,1910009)\n",
    "print(TCS_employee.employee_id)\n",
    "print(TCS_employee.name)\n",
    "print(TCS_employee.age)\n",
    "\n",
    "print(Employee.mro()) # Prints MRO with respect to Employee Class\n"
   ]
  },
  {
   "cell_type": "code",
   "execution_count": 24,
   "metadata": {},
   "outputs": [
    {
     "name": "stdout",
     "output_type": "stream",
     "text": [
      "1910009\n",
      "rajeshawar\n",
      "27\n",
      "rajeshawar 27 1910009\n"
     ]
    }
   ],
   "source": [
    "# Question - 6\n",
    "\n",
    "class Person:\n",
    "    def __init__(self,name,age):\n",
    "        self.name = name\n",
    "        self.age = age\n",
    "    \n",
    "class Employee(Person):\n",
    "    def __init__(self,name,age,employee_id):\n",
    "        super().__init__(name,age) # calls parent class constructor\n",
    "        self.employee_id = employee_id\n",
    "    def __str__(self):\n",
    "        return (f'{self.name} {self.age} {self.employee_id}')\n",
    "\n",
    "TCS_employee = Employee(\"rajeshawar\",27,1910009)\n",
    "print(TCS_employee.employee_id)\n",
    "print(TCS_employee.name)\n",
    "print(TCS_employee.age)\n",
    "\n",
    "print(TCS_employee)\n"
   ]
  },
  {
   "cell_type": "code",
   "execution_count": 28,
   "metadata": {},
   "outputs": [
    {
     "name": "stdout",
     "output_type": "stream",
     "text": [
      "sec-23\n",
      "sonipat\n",
      "131001\n"
     ]
    }
   ],
   "source": [
    "# Question - 7\n",
    "\n",
    "class Address:\n",
    "    def __init__(self,street,city,zipcode):\n",
    "        self.street = street\n",
    "        self.city = city\n",
    "        self.zipcode = zipcode\n",
    "\n",
    "class Person:\n",
    "    def __init__(self,address):\n",
    "        self.adress = address\n",
    "\n",
    "my_address = Address('sec-23','sonipat',131001)\n",
    "akshat = Person(my_address)\n",
    "\n",
    "print(akshat.adress.street)\n",
    "print(akshat.adress.city)\n",
    "print(akshat.adress.zipcode)"
   ]
  },
  {
   "cell_type": "code",
   "execution_count": 33,
   "metadata": {},
   "outputs": [
    {
     "name": "stdout",
     "output_type": "stream",
     "text": [
      "1\n",
      "2\n",
      "3\n",
      "4\n"
     ]
    }
   ],
   "source": [
    "# Question - 8\n",
    "\n",
    "class Counter:\n",
    "    counter = 0\n",
    "\n",
    "    def __init__(self):\n",
    "        Counter.counter += 1 # Using Counter instead of self because counter is a class variable\n",
    "    def fetch_counter(self):\n",
    "        print(f'{Counter.counter}')\n",
    "\n",
    "class_1 = Counter()\n",
    "class_1.fetch_counter()\n",
    "class_2 = Counter()\n",
    "class_2.fetch_counter()\n",
    "class_3 = Counter()\n",
    "class_3.fetch_counter()\n",
    "class_4 = Counter()\n",
    "class_4.fetch_counter()\n"
   ]
  },
  {
   "cell_type": "code",
   "execution_count": 36,
   "metadata": {},
   "outputs": [
    {
     "data": {
      "text/plain": [
       "5.196152422706632"
      ]
     },
     "execution_count": 36,
     "metadata": {},
     "output_type": "execute_result"
    }
   ],
   "source": [
    "# Question - 9\n",
    "import math\n",
    "\n",
    "class MathOperations:\n",
    "    @staticmethod\n",
    "    def square_root(number):\n",
    "        return math.sqrt(number)\n",
    "    \n",
    "MathOperations.square_root(27)"
   ]
  },
  {
   "cell_type": "code",
   "execution_count": 47,
   "metadata": {},
   "outputs": [
    {
     "name": "stdout",
     "output_type": "stream",
     "text": [
      "20\n",
      "40\n"
     ]
    }
   ],
   "source": [
    "# Question - 10\n",
    "\n",
    "''' \n",
    "In Python we use getters and setters for setting attributes getters are preceded by @property decorator , while\n",
    "setters are followed by @<attribute_name.setter> (given the getter's function name is also attribute name), even if variable is private by __ it ignores it \n",
    "for e.g. a setter for attribute like __length will be written as @length.setter\n",
    "'''\n",
    "\n",
    "\n",
    "class Rectangle:\n",
    "    def __init__(self,length,width):\n",
    "        self.__length = length\n",
    "        self.__width = width\n",
    "\n",
    "    @property\n",
    "    def length(self):\n",
    "        return self.__length\n",
    "    \n",
    "    @length.setter\n",
    "    def length(self,length): # You can name the function anything but it's a convention that it's the same name as the attribute \n",
    "        if length < 0:\n",
    "            raise ValueError(\"Inappropriate Length , Can't be negative\")\n",
    "        else:\n",
    "            self.__length = length\n",
    "\n",
    "    @property\n",
    "    def width(self):\n",
    "        return self.__width\n",
    "    \n",
    "    @width.setter\n",
    "    def width(self,width):\n",
    "        if width < 0:\n",
    "            raise ValueError(\"Width can't be negative\")\n",
    "        else:\n",
    "            self.__width = width\n",
    "\n",
    "\n",
    "my_rectangle = Rectangle(20,30)\n",
    "my_rectangle.length = 40\n",
    "my_rectangle.width = 20\n",
    "\n",
    "print(my_rectangle.width)\n",
    "print(my_rectangle.length)\n"
   ]
  },
  {
   "cell_type": "code",
   "execution_count": 56,
   "metadata": {},
   "outputs": [
    {
     "name": "stdout",
     "output_type": "stream",
     "text": [
      "78.53981633974483\n",
      "30.25\n"
     ]
    }
   ],
   "source": [
    "# Question 11\n",
    "\n",
    "''' \n",
    "Abstract Base Classes are classes that cannot be initialized or instancianized themselves but provide a blueprint to \n",
    "Child classes on what methods they MUST implement , if a child class doesn't define a method in the abstract base class it will\n",
    "raise a type error \n",
    "\n",
    "To use abstract base class we import the module abc and from it import ABC,abstractmethod(decorator)\n",
    "'''\n",
    "\n",
    "from abc import ABC,abstractmethod\n",
    "from math import pi\n",
    "\n",
    "class Shape(ABC):\n",
    "    @abstractmethod\n",
    "    def area():\n",
    "        pass\n",
    "\n",
    "class Circle(Shape):\n",
    "    def __init__(self,radius):\n",
    "        self.radius = radius\n",
    "\n",
    "    def area(self):\n",
    "        return pi*self.radius**2\n",
    "\n",
    "class Square(Shape):\n",
    "    def __init__(self,side):\n",
    "        self.side = side\n",
    "    def area(self):\n",
    "        return self.side * self.side      \n",
    "\n",
    "\n",
    "my_circle = Circle(5.0)\n",
    "print(my_circle.area())  \n",
    "\n",
    "my_square = Square(5.5)\n",
    "print(my_square.area())\n"
   ]
  },
  {
   "cell_type": "code",
   "execution_count": 58,
   "metadata": {},
   "outputs": [
    {
     "name": "stdout",
     "output_type": "stream",
     "text": [
      "6 and 8\n"
     ]
    }
   ],
   "source": [
    "# Question - 12\n",
    "\n",
    "''' \n",
    "We can overload many operators like \n",
    "\n",
    "__add__(self, other): Overloads the + operator.\n",
    "__sub__(self, other): Overloads the - operator.\n",
    "__mul__(self, other): Overloads the * operator.\n",
    "__truediv__(self, other): Overloads the / operator.\n",
    "__eq__(self, other): Overloads the == operator.\n",
    "__lt__(self, other): Overloads the < operator.\n",
    "__str__(self): Overloads the print() and str() conversion.\n",
    "\n",
    "'''\n",
    "\n",
    "class Vector:\n",
    "    def __init__(self,x_coord,y_coord):\n",
    "        self.x_coord = x_coord\n",
    "        self.y_coord = y_coord\n",
    "    \n",
    "    def __add__(self,other):\n",
    "        return Vector( (self.x_coord + other.x_coord), (self.y_coord + other.y_coord))\n",
    "    \n",
    "    def __str__(self):\n",
    "        return f'{self.x_coord} and {self.y_coord}'\n",
    "    \n",
    "\n",
    "Vec_1 = Vector(2,3)\n",
    "Vec_2 = Vector(4,5)\n",
    "\n",
    "Vec_res = Vec_1 + Vec_2\n",
    "print(Vec_res)"
   ]
  },
  {
   "cell_type": "code",
   "execution_count": 74,
   "metadata": {},
   "outputs": [
    {
     "name": "stdout",
     "output_type": "stream",
     "text": [
      "8000\n"
     ]
    }
   ],
   "source": [
    "# Question - 13\n",
    "\n",
    "''' \n",
    "To raise custom exceptions we make our own exception class and inherit from the built-in Exception class\n",
    "'''\n",
    "\n",
    "class InsufficientBalanceError(Exception):\n",
    "    pass\n",
    "\n",
    "class BankAccount:\n",
    "    def __init__(self,balance = 5000):\n",
    "        self.__balance = balance\n",
    "\n",
    "    @property\n",
    "    def balance(self):\n",
    "        return self.__balance\n",
    "    \n",
    "    @balance.setter\n",
    "    def balance(self,balance):\n",
    "        if balance < 0:\n",
    "            raise InsufficientBalanceError(\"Insufficient Balance !!\")\n",
    "        else:\n",
    "            self.__balance = balance\n",
    "\n",
    "    def withdraw(self,ammount):\n",
    "        if ammount > self.__balance:\n",
    "            raise InsufficientBalanceError(\"Cannot withdraw, insufficient funds!\")\n",
    "        else:\n",
    "            self.__balance -= ammount\n",
    "\n",
    "    def __str__(self):\n",
    "        return f'{self.__balance}'\n",
    "\n",
    "my_account = BankAccount(10000)\n",
    "my_account.withdraw(2000)\n",
    "\n",
    "print(my_account)"
   ]
  },
  {
   "cell_type": "code",
   "execution_count": 83,
   "metadata": {},
   "outputs": [
    {
     "name": "stdout",
     "output_type": "stream",
     "text": [
      "''' \n",
      "A context manager in python is closesly related to the with statement , \n",
      "The context manager is when we implement __enter__ and __exit__ methods in our class , the __enter__ executes when we go inside\n",
      "the with block and __exit__ triggers when we exit it.\n",
      "'''\n"
     ]
    }
   ],
   "source": [
    "# Question - 14\n",
    "''' \n",
    "A context manager in python is closesly related to the with statement , \n",
    "The context manager is when we implement __enter__ and __exit__ methods in our class , the __enter__ executes when we go inside\n",
    "the with block and __exit__ triggers when we exit it.\n",
    "'''\n",
    "\n",
    "class FileManager:\n",
    "\n",
    "    def __init__(self,filename,mode):\n",
    "        self.filename = filename\n",
    "        self.mode = mode\n",
    "\n",
    "    def __enter__(self):\n",
    "        self.file = open(self.filename,self.mode)\n",
    "        return self.file\n",
    "    def __exit__(self,exc_type,exc_value,traceback):\n",
    "        self.file.close()\n",
    "\n",
    "with FileManager('sample.txt','r') as manager:\n",
    "    print(manager.read())"
   ]
  },
  {
   "cell_type": "code",
   "execution_count": 80,
   "metadata": {},
   "outputs": [
    {
     "name": "stdout",
     "output_type": "stream",
     "text": [
      "5.0\n"
     ]
    }
   ],
   "source": [
    "# Question - 15\n",
    "\n",
    "# Alternate approach of doing below code is to use return self statement instead of creating new object everytime\n",
    "\n",
    "class Calculator:\n",
    "    def __init__(self,value):\n",
    "        self.value = value\n",
    "\n",
    "    def add(self,num):\n",
    "        return Calculator(self.value + num)\n",
    "    \n",
    "    def sub(self,num):\n",
    "        return Calculator(self.value - num)\n",
    "    \n",
    "    def mul(self,num):\n",
    "        return Calculator(self.value * num)\n",
    "    \n",
    "    def div(self,num):\n",
    "        return Calculator(self.value / num)\n",
    "    \n",
    "my_calc = Calculator(10)\n",
    "\n",
    "print(my_calc.add(10).sub(15).mul(10).div(10).value)"
   ]
  },
  {
   "cell_type": "code",
   "execution_count": 85,
   "metadata": {},
   "outputs": [
    {
     "data": {
      "text/plain": [
       "4"
      ]
     },
     "execution_count": 85,
     "metadata": {},
     "output_type": "execute_result"
    }
   ],
   "source": []
  },
  {
   "cell_type": "code",
   "execution_count": null,
   "metadata": {},
   "outputs": [],
   "source": []
  }
 ],
 "metadata": {
  "kernelspec": {
   "display_name": "Python 3",
   "language": "python",
   "name": "python3"
  },
  "language_info": {
   "codemirror_mode": {
    "name": "ipython",
    "version": 3
   },
   "file_extension": ".py",
   "mimetype": "text/x-python",
   "name": "python",
   "nbconvert_exporter": "python",
   "pygments_lexer": "ipython3",
   "version": "3.13.0"
  }
 },
 "nbformat": 4,
 "nbformat_minor": 2
}
