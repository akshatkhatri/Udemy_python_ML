{
 "cells": [
  {
   "cell_type": "code",
   "execution_count": 28,
   "metadata": {},
   "outputs": [],
   "source": [
    "import numpy as np"
   ]
  },
  {
   "cell_type": "code",
   "execution_count": 29,
   "metadata": {},
   "outputs": [
    {
     "name": "stdout",
     "output_type": "stream",
     "text": [
      "[[ 7 17  1  4 14]\n",
      " [19 12  1  6 11]\n",
      " [12 12  1 20 17]\n",
      " [ 3  5  1 18 18]\n",
      " [18  1  1  3  2]]\n",
      "[[ 0  7 11 13]\n",
      " [ 3  0 12  2]\n",
      " [15 13  0  8]\n",
      " [ 9  1  6  0]]\n"
     ]
    }
   ],
   "source": [
    "# Question - 1\n",
    "\n",
    "import random\n",
    "\n",
    "np_arr = np.random.randint(1,21,size = (5,5))\n",
    "np_arr[:,2] = 1\n",
    "print(np_arr)\n",
    "\n",
    "np_arr2 = np.random.randint(1,17,size = (4,4))\n",
    "np.fill_diagonal(np_arr2,0)\n",
    "print(np_arr2)"
   ]
  },
  {
   "cell_type": "code",
   "execution_count": 45,
   "metadata": {},
   "outputs": [
    {
     "name": "stdout",
     "output_type": "stream",
     "text": [
      "[[15 16]\n",
      " [21 22]\n",
      " [27 28]]\n",
      "[[0.64972509 0.72695041]\n",
      " [0.15805732 0.73329969]]\n"
     ]
    }
   ],
   "source": [
    "# Question - 2\n",
    "\n",
    "np_arr = np.arange(1,37).reshape(6,6)\n",
    "print(np_arr[2:5,2:4])\n",
    "\n",
    "np_arr2 = np.random.rand(5,5)\n",
    "print(np_arr2[0::4,0::4])\n"
   ]
  },
  {
   "cell_type": "code",
   "execution_count": null,
   "metadata": {},
   "outputs": [],
   "source": [
    "# Question - 3\n"
   ]
  },
  {
   "cell_type": "code",
   "execution_count": null,
   "metadata": {},
   "outputs": [],
   "source": []
  }
 ],
 "metadata": {
  "kernelspec": {
   "display_name": "base",
   "language": "python",
   "name": "python3"
  },
  "language_info": {
   "codemirror_mode": {
    "name": "ipython",
    "version": 3
   },
   "file_extension": ".py",
   "mimetype": "text/x-python",
   "name": "python",
   "nbconvert_exporter": "python",
   "pygments_lexer": "ipython3",
   "version": "3.12.4"
  }
 },
 "nbformat": 4,
 "nbformat_minor": 2
}
