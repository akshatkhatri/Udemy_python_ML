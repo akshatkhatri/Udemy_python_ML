{
 "cells": [
  {
   "cell_type": "code",
   "execution_count": 69,
   "metadata": {},
   "outputs": [],
   "source": [
    "import numpy as np"
   ]
  },
  {
   "cell_type": "code",
   "execution_count": 70,
   "metadata": {},
   "outputs": [
    {
     "name": "stdout",
     "output_type": "stream",
     "text": [
      "[[16 13  1  8 14]\n",
      " [13 12  1 10 17]\n",
      " [18 14  1 14 11]\n",
      " [17  4  1  9 10]\n",
      " [ 1  3  1  5 20]]\n",
      "[[ 0 14  2 12]\n",
      " [ 4  0 10 14]\n",
      " [ 9  3  0  6]\n",
      " [ 6  1  1  0]]\n"
     ]
    }
   ],
   "source": [
    "# Question - 1\n",
    "\n",
    "import random\n",
    "\n",
    "np_arr = np.random.randint(1,21,size = (5,5))\n",
    "np_arr[:,2] = 1\n",
    "print(np_arr)\n",
    "\n",
    "np_arr2 = np.random.randint(1,17,size = (4,4))\n",
    "np.fill_diagonal(np_arr2,0)\n",
    "print(np_arr2)"
   ]
  },
  {
   "cell_type": "code",
   "execution_count": 71,
   "metadata": {},
   "outputs": [
    {
     "name": "stdout",
     "output_type": "stream",
     "text": [
      "[[15 16]\n",
      " [21 22]\n",
      " [27 28]]\n",
      "[[0.15633169 0.02394137]\n",
      " [0.82402934 0.45956264]]\n"
     ]
    }
   ],
   "source": [
    "# Question - 2\n",
    "\n",
    "np_arr = np.arange(1,37).reshape(6,6)\n",
    "print(np_arr[2:5,2:4])\n",
    "\n",
    "np_arr2 = np.random.rand(5,5)\n",
    "print(np_arr2[0::4,0::4])\n"
   ]
  },
  {
   "cell_type": "code",
   "execution_count": 72,
   "metadata": {},
   "outputs": [
    {
     "name": "stdout",
     "output_type": "stream",
     "text": [
      "[[3 4 5 6]\n",
      " [1 9 8 9]\n",
      " [6 4 7 6]]\n",
      "[[ 7  3  3 10]\n",
      " [16  7 18  9]\n",
      " [19 10  6 19]]\n",
      "[[10  7  8 16]\n",
      " [17 16 26 18]\n",
      " [25 14 13 25]]\n",
      "[[ -4   1   2  -4]\n",
      " [-15   2 -10   0]\n",
      " [-13  -6   1 -13]]\n",
      "[[ 21  12  15  60]\n",
      " [ 16  63 144  81]\n",
      " [114  40  42 114]]\n",
      "[[0.42857143 1.33333333 1.66666667 0.6       ]\n",
      " [0.0625     1.28571429 0.44444444 1.        ]\n",
      " [0.31578947 0.4        1.16666667 0.31578947]]\n",
      "[[ 1  2  3  4]\n",
      " [ 5  6  7  8]\n",
      " [ 9 10 11 12]\n",
      " [13 14 15 16]]\n",
      "[10 26 42 58]\n",
      "[28 32 36 40]\n"
     ]
    }
   ],
   "source": [
    "# Question - 3\n",
    "\n",
    "np_arr = np.random.randint(1,10,(3,4))\n",
    "np_arr2 = np.random.randint(1,20,(3,4))\n",
    "\n",
    "print(np_arr)\n",
    "print(np_arr2)\n",
    "\n",
    "print(np_arr + np_arr2)\n",
    "print(np_arr - np_arr2)\n",
    "print(np_arr * np_arr2)\n",
    "print(np_arr / np_arr2)\n",
    "\n",
    "np_arr3 = np.arange(1,17).reshape(4,4)\n",
    "print(np_arr3)\n",
    "print(np.sum(np_arr3,axis = 1))\n",
    "print(np.sum(np_arr3,axis = 0))\n"
   ]
  },
  {
   "cell_type": "code",
   "execution_count": 91,
   "metadata": {},
   "outputs": [
    {
     "name": "stdout",
     "output_type": "stream",
     "text": [
      "20.56\n",
      "20.0\n",
      "9.621143383195161\n",
      "92.56640000000002\n",
      "[[2 2 2]\n",
      " [6 5 4]\n",
      " [7 5 3]]\n",
      "[[-1.13389342 -1.13389342 -1.13389342]\n",
      " [ 1.13389342  0.56694671  0.        ]\n",
      " [ 1.70084013  0.56694671 -0.56694671]]\n"
     ]
    }
   ],
   "source": [
    "# Question - 4\n",
    "\n",
    "np_arr = np.random.randint(1,40,size = (5,5))\n",
    "print(np.mean(np_arr))\n",
    "print(np.median(np_arr))\n",
    "print(np.std(np_arr))\n",
    "print(np.var(np_arr))\n",
    "\n",
    "\n",
    "np_arr4 = np.random.randint(1,9,size = (3,3))\n",
    "print(np_arr4)\n",
    "normalized_np_arr4 = (np_arr4 - np.mean(np_arr4)) / np.std(np_arr4)\n",
    "print(normalized_np_arr4)"
   ]
  },
  {
   "cell_type": "code",
   "execution_count": 96,
   "metadata": {},
   "outputs": [
    {
     "name": "stdout",
     "output_type": "stream",
     "text": [
      "[[6 5 7]\n",
      " [1 8 1]\n",
      " [9 4 4]]\n",
      "[3 3 4]\n",
      "[[ 9  8 11]\n",
      " [ 4 11  5]\n",
      " [12  7  8]]\n",
      "Original array:\n",
      "[[ 9  4  6  8]\n",
      " [10  7  6  7]\n",
      " [ 2  1  7  7]\n",
      " [ 3 10  4  4]]\n",
      "1D array:\n",
      "[2 8 9 5]\n",
      "Resulting array:\n",
      "[[ 7  2  4  6]\n",
      " [ 2 -1 -2 -1]\n",
      " [-7 -8 -2 -2]\n",
      " [-2  5 -1 -1]]\n"
     ]
    }
   ],
   "source": [
    "# Question - 5\n",
    "\n",
    "np_arr = np.random.randint(1,10,size = (3,3))\n",
    "np_1_d_arr = np.random.randint(1,5,size = (3))\n",
    "print(np_arr)\n",
    "print(np_1_d_arr)\n",
    "print(np_arr+np_1_d_arr)\n",
    "\n",
    "\n",
    "# Create a NumPy array of shape (4, 4) filled with random integers\n",
    "array = np.random.randint(1, 11, size=(4, 4))\n",
    "column_array = np.random.randint(1, 11, size=(4,))\n",
    "print(\"Original array:\")\n",
    "print(array)\n",
    "print(\"1D array:\")\n",
    "print(column_array)\n",
    "\n",
    "# Subtract the 1D array from each column of the 2D array using broadcasting\n",
    "result = array - column_array[:, np.newaxis]\n",
    "print(\"Resulting array:\")\n",
    "print(result)"
   ]
  },
  {
   "cell_type": "code",
   "execution_count": 103,
   "metadata": {},
   "outputs": [
    {
     "name": "stdout",
     "output_type": "stream",
     "text": [
      "-15.999999999999998\n",
      "[[-0.1875 -0.5625  0.6875]\n",
      " [-0.25    2.25   -1.75  ]\n",
      " [ 0.1875 -0.4375  0.3125]]\n",
      "\n",
      "[15.40005859 -2.77452204  0.37446345]\n"
     ]
    },
    {
     "data": {
      "text/plain": [
       "array([[48, 52],\n",
       "       [38, 64]])"
      ]
     },
     "execution_count": 103,
     "metadata": {},
     "output_type": "execute_result"
    }
   ],
   "source": [
    "# Question - 6\n",
    "\n",
    "np_arr = np.random.randint(1,10,size=(3,3))\n",
    "\n",
    "# We use the np.linalg module to do linear algebra\n",
    "\n",
    "print(np.linalg.det(np_arr))\n",
    "print(np.linalg.inv(np_arr))\n",
    "print()\n",
    "print(np.linalg.eigvals(np_arr))\n",
    "\n",
    "np_arr2 = np.random.randint(1,10,size=(2,3))\n",
    "np_arr3 = np.random.randint(1,10,size=(3,2))\n",
    "\n",
    "np.matmul(np_arr2,np_arr3)\n"
   ]
  },
  {
   "cell_type": "code",
   "execution_count": 105,
   "metadata": {},
   "outputs": [
    {
     "name": "stdout",
     "output_type": "stream",
     "text": [
      "Original array:\n",
      "[[1 2 3]\n",
      " [4 5 6]\n",
      " [7 8 9]]\n",
      "Reshaped array (1, 9):\n",
      "[[1 2 3 4 5 6 7 8 9]]\n",
      "Reshaped array (9, 1):\n",
      "[[1]\n",
      " [2]\n",
      " [3]\n",
      " [4]\n",
      " [5]\n",
      " [6]\n",
      " [7]\n",
      " [8]\n",
      " [9]]\n",
      "Original array:\n",
      "[[10  2 12 13  4]\n",
      " [19 18 17  9 19]\n",
      " [ 3 18  2  5  8]\n",
      " [10 20 15 15  3]\n",
      " [13  9 18  7 10]]\n",
      "Flattened array:\n",
      "[10  2 12 13  4 19 18 17  9 19  3 18  2  5  8 10 20 15 15  3 13  9 18  7\n",
      " 10]\n",
      "Reshaped array:\n",
      "[[10  2 12 13  4]\n",
      " [19 18 17  9 19]\n",
      " [ 3 18  2  5  8]\n",
      " [10 20 15 15  3]\n",
      " [13  9 18  7 10]]\n"
     ]
    }
   ],
   "source": [
    "# Question - 7\n",
    "\n",
    "# Create a NumPy array of shape (3, 3) with values from 1 to 9\n",
    "array = np.arange(1, 10).reshape((3, 3))\n",
    "print(\"Original array:\")\n",
    "print(array)\n",
    "\n",
    "# Reshape the array to shape (1, 9)\n",
    "reshaped_array_1 = array.reshape((1, 9))\n",
    "print(\"Reshaped array (1, 9):\")\n",
    "print(reshaped_array_1)\n",
    "\n",
    "# Reshape the array to shape (9, 1)\n",
    "reshaped_array_2 = reshaped_array_1.reshape((9, 1))\n",
    "print(\"Reshaped array (9, 1):\")\n",
    "print(reshaped_array_2)\n",
    "\n",
    "# Create a NumPy array of shape (5, 5) filled with random integers\n",
    "array = np.random.randint(1, 21, size=(5, 5))\n",
    "print(\"Original array:\")\n",
    "print(array)\n",
    "\n",
    "# Flatten the array\n",
    "flattened_array = array.flatten()\n",
    "print(\"Flattened array:\")\n",
    "print(flattened_array)\n",
    "\n",
    "# Reshape the array back to (5, 5)\n",
    "reshaped_array = flattened_array.reshape((5, 5))\n",
    "print(\"Reshaped array:\")\n",
    "print(reshaped_array)"
   ]
  },
  {
   "cell_type": "code",
   "execution_count": null,
   "metadata": {},
   "outputs": [],
   "source": [
    "# Question - 8\n"
   ]
  }
 ],
 "metadata": {
  "kernelspec": {
   "display_name": "base",
   "language": "python",
   "name": "python3"
  },
  "language_info": {
   "codemirror_mode": {
    "name": "ipython",
    "version": 3
   },
   "file_extension": ".py",
   "mimetype": "text/x-python",
   "name": "python",
   "nbconvert_exporter": "python",
   "pygments_lexer": "ipython3",
   "version": "3.12.4"
  }
 },
 "nbformat": 4,
 "nbformat_minor": 2
}
