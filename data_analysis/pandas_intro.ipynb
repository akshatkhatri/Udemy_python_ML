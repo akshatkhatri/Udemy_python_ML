{
 "cells": [
  {
   "cell_type": "code",
   "execution_count": 2,
   "metadata": {},
   "outputs": [
    {
     "name": "stdout",
     "output_type": "stream",
     "text": [
      "0    1\n",
      "1    2\n",
      "2    3\n",
      "3    4\n",
      "4    5\n",
      "dtype: int64\n"
     ]
    }
   ],
   "source": [
    "import pandas as pd\n",
    "\n",
    "series = pd.Series([1,2,3,4,5])\n",
    "print(series)"
   ]
  },
  {
   "cell_type": "code",
   "execution_count": 3,
   "metadata": {},
   "outputs": [
    {
     "name": "stdout",
     "output_type": "stream",
     "text": [
      "a    10\n",
      "b    20\n",
      "c    30\n",
      "dtype: int64\n"
     ]
    }
   ],
   "source": [
    "# Creating pandas series from a dictionary\n",
    "\n",
    "data = {'a':10,'b':20,'c':30}\n",
    "series2 = pd.Series(data)\n",
    "print(series2)"
   ]
  },
  {
   "cell_type": "code",
   "execution_count": 4,
   "metadata": {},
   "outputs": [
    {
     "name": "stdout",
     "output_type": "stream",
     "text": [
      "     Name  age occupation\n",
      "0  AKSHAT   20        SDE\n",
      "1   name2   21       carp\n",
      "2   name3   22       barp\n"
     ]
    }
   ],
   "source": [
    "data = {\n",
    "    'Name':[\"AKSHAT\",\"name2\",\"name3\"],\n",
    "    'age':[20,21,22],\n",
    "    'occupation':[\"SDE\",\"carp\",\"barp\"]\n",
    "}\n",
    "\n",
    "data_frame_ = pd.DataFrame(data)\n",
    "print(data_frame_)"
   ]
  },
  {
   "cell_type": "code",
   "execution_count": 5,
   "metadata": {},
   "outputs": [
    {
     "name": "stdout",
     "output_type": "stream",
     "text": [
      "     name  age occupation\n",
      "0  akshat   20        SWE\n",
      "1  akshat   20        SWE\n",
      "2  akshat   20        SWE\n",
      "3  akshat   20        SWE\n"
     ]
    }
   ],
   "source": [
    "# A list of dictionaries can also be used to construct the data frame\n",
    "\n",
    "data = [\n",
    "    {'name':'akshat','age':20,'occupation':'SWE'},\n",
    "    {'name':'akshat','age':20,'occupation':'SWE'},\n",
    "    {'name':'akshat','age':20,'occupation':'SWE'},\n",
    "    {'name':'akshat','age':20,'occupation':'SWE'}\n",
    "]\n",
    "\n",
    "data_frame = pd.DataFrame(data)\n",
    "print(data_frame)"
   ]
  },
  {
   "cell_type": "code",
   "execution_count": 6,
   "metadata": {},
   "outputs": [
    {
     "data": {
      "text/plain": [
       "name          akshat\n",
       "age               20\n",
       "occupation       SWE\n",
       "Name: 0, dtype: object"
      ]
     },
     "execution_count": 6,
     "metadata": {},
     "output_type": "execute_result"
    }
   ],
   "source": [
    "data_frame\n",
    "\n",
    "data_frame.loc[0]\n",
    "data_frame.iloc[0]"
   ]
  },
  {
   "cell_type": "code",
   "execution_count": 7,
   "metadata": {},
   "outputs": [
    {
     "data": {
      "text/plain": [
       "2.23606797749979"
      ]
     },
     "execution_count": 7,
     "metadata": {},
     "output_type": "execute_result"
    }
   ],
   "source": [
    "import math\n",
    "math.sqrt(5)"
   ]
  },
  {
   "cell_type": "code",
   "execution_count": 8,
   "metadata": {},
   "outputs": [
    {
     "data": {
      "text/plain": [
       "6561"
      ]
     },
     "execution_count": 8,
     "metadata": {},
     "output_type": "execute_result"
    }
   ],
   "source": [
    "81*81"
   ]
  },
  {
   "cell_type": "code",
   "execution_count": 9,
   "metadata": {},
   "outputs": [
    {
     "data": {
      "text/html": [
       "<div>\n",
       "<style scoped>\n",
       "    .dataframe tbody tr th:only-of-type {\n",
       "        vertical-align: middle;\n",
       "    }\n",
       "\n",
       "    .dataframe tbody tr th {\n",
       "        vertical-align: top;\n",
       "    }\n",
       "\n",
       "    .dataframe thead th {\n",
       "        text-align: right;\n",
       "    }\n",
       "</style>\n",
       "<table border=\"1\" class=\"dataframe\">\n",
       "  <thead>\n",
       "    <tr style=\"text-align: right;\">\n",
       "      <th></th>\n",
       "      <th>Name</th>\n",
       "      <th>age</th>\n",
       "      <th>occupation</th>\n",
       "    </tr>\n",
       "  </thead>\n",
       "  <tbody>\n",
       "    <tr>\n",
       "      <th>0</th>\n",
       "      <td>AKSHAT</td>\n",
       "      <td>20</td>\n",
       "      <td>SDE</td>\n",
       "    </tr>\n",
       "    <tr>\n",
       "      <th>1</th>\n",
       "      <td>name2</td>\n",
       "      <td>21</td>\n",
       "      <td>carp</td>\n",
       "    </tr>\n",
       "    <tr>\n",
       "      <th>2</th>\n",
       "      <td>name3</td>\n",
       "      <td>22</td>\n",
       "      <td>barp</td>\n",
       "    </tr>\n",
       "  </tbody>\n",
       "</table>\n",
       "</div>"
      ],
      "text/plain": [
       "     Name  age occupation\n",
       "0  AKSHAT   20        SDE\n",
       "1   name2   21       carp\n",
       "2   name3   22       barp"
      ]
     },
     "execution_count": 9,
     "metadata": {},
     "output_type": "execute_result"
    }
   ],
   "source": [
    "data_frame_"
   ]
  },
  {
   "cell_type": "code",
   "execution_count": 10,
   "metadata": {},
   "outputs": [
    {
     "name": "stdout",
     "output_type": "stream",
     "text": [
      "20\n",
      "carp\n"
     ]
    }
   ],
   "source": [
    "print(data_frame_.at[0,'age'])\n",
    "print(data_frame_.at[1,'occupation'])"
   ]
  },
  {
   "cell_type": "code",
   "execution_count": 11,
   "metadata": {},
   "outputs": [
    {
     "name": "stdout",
     "output_type": "stream",
     "text": [
      "barp\n"
     ]
    }
   ],
   "source": [
    "print(data_frame_.iat[2,2])"
   ]
  },
  {
   "cell_type": "code",
   "execution_count": 12,
   "metadata": {},
   "outputs": [],
   "source": [
    "## Adding a column to the dataframe\n",
    "\n",
    "data_frame_['salary'] = [50000,60000,70000]"
   ]
  },
  {
   "cell_type": "code",
   "execution_count": 13,
   "metadata": {},
   "outputs": [
    {
     "data": {
      "text/html": [
       "<div>\n",
       "<style scoped>\n",
       "    .dataframe tbody tr th:only-of-type {\n",
       "        vertical-align: middle;\n",
       "    }\n",
       "\n",
       "    .dataframe tbody tr th {\n",
       "        vertical-align: top;\n",
       "    }\n",
       "\n",
       "    .dataframe thead th {\n",
       "        text-align: right;\n",
       "    }\n",
       "</style>\n",
       "<table border=\"1\" class=\"dataframe\">\n",
       "  <thead>\n",
       "    <tr style=\"text-align: right;\">\n",
       "      <th></th>\n",
       "      <th>Name</th>\n",
       "      <th>age</th>\n",
       "      <th>occupation</th>\n",
       "      <th>salary</th>\n",
       "    </tr>\n",
       "  </thead>\n",
       "  <tbody>\n",
       "    <tr>\n",
       "      <th>0</th>\n",
       "      <td>AKSHAT</td>\n",
       "      <td>20</td>\n",
       "      <td>SDE</td>\n",
       "      <td>50000</td>\n",
       "    </tr>\n",
       "    <tr>\n",
       "      <th>1</th>\n",
       "      <td>name2</td>\n",
       "      <td>21</td>\n",
       "      <td>carp</td>\n",
       "      <td>60000</td>\n",
       "    </tr>\n",
       "    <tr>\n",
       "      <th>2</th>\n",
       "      <td>name3</td>\n",
       "      <td>22</td>\n",
       "      <td>barp</td>\n",
       "      <td>70000</td>\n",
       "    </tr>\n",
       "  </tbody>\n",
       "</table>\n",
       "</div>"
      ],
      "text/plain": [
       "     Name  age occupation  salary\n",
       "0  AKSHAT   20        SDE   50000\n",
       "1   name2   21       carp   60000\n",
       "2   name3   22       barp   70000"
      ]
     },
     "execution_count": 13,
     "metadata": {},
     "output_type": "execute_result"
    }
   ],
   "source": [
    "data_frame_"
   ]
  },
  {
   "cell_type": "code",
   "execution_count": 14,
   "metadata": {},
   "outputs": [],
   "source": [
    "data_frame_ = data_frame_.drop('salary',axis = 1)\n",
    "\n",
    "# OR Do inplace = True\n",
    "\n",
    "# data_frame_.drop('salary',axis = 1)"
   ]
  },
  {
   "cell_type": "code",
   "execution_count": 15,
   "metadata": {},
   "outputs": [
    {
     "data": {
      "text/html": [
       "<div>\n",
       "<style scoped>\n",
       "    .dataframe tbody tr th:only-of-type {\n",
       "        vertical-align: middle;\n",
       "    }\n",
       "\n",
       "    .dataframe tbody tr th {\n",
       "        vertical-align: top;\n",
       "    }\n",
       "\n",
       "    .dataframe thead th {\n",
       "        text-align: right;\n",
       "    }\n",
       "</style>\n",
       "<table border=\"1\" class=\"dataframe\">\n",
       "  <thead>\n",
       "    <tr style=\"text-align: right;\">\n",
       "      <th></th>\n",
       "      <th>Name</th>\n",
       "      <th>age</th>\n",
       "      <th>occupation</th>\n",
       "    </tr>\n",
       "  </thead>\n",
       "  <tbody>\n",
       "    <tr>\n",
       "      <th>0</th>\n",
       "      <td>AKSHAT</td>\n",
       "      <td>20</td>\n",
       "      <td>SDE</td>\n",
       "    </tr>\n",
       "    <tr>\n",
       "      <th>1</th>\n",
       "      <td>name2</td>\n",
       "      <td>21</td>\n",
       "      <td>carp</td>\n",
       "    </tr>\n",
       "    <tr>\n",
       "      <th>2</th>\n",
       "      <td>name3</td>\n",
       "      <td>22</td>\n",
       "      <td>barp</td>\n",
       "    </tr>\n",
       "  </tbody>\n",
       "</table>\n",
       "</div>"
      ],
      "text/plain": [
       "     Name  age occupation\n",
       "0  AKSHAT   20        SDE\n",
       "1   name2   21       carp\n",
       "2   name3   22       barp"
      ]
     },
     "execution_count": 15,
     "metadata": {},
     "output_type": "execute_result"
    }
   ],
   "source": [
    "data_frame_"
   ]
  },
  {
   "cell_type": "code",
   "execution_count": 16,
   "metadata": {},
   "outputs": [
    {
     "data": {
      "text/plain": [
       "' \\nData Manipulation with pandas\\n'"
      ]
     },
     "execution_count": 16,
     "metadata": {},
     "output_type": "execute_result"
    }
   ],
   "source": [
    "''' \n",
    "Data Manipulation with pandas\n",
    "'''\n",
    "# "
   ]
  },
  {
   "cell_type": "code",
   "execution_count": 17,
   "metadata": {},
   "outputs": [],
   "source": [
    "df = pd.read_csv('banklist.csv')"
   ]
  },
  {
   "cell_type": "code",
   "execution_count": 18,
   "metadata": {},
   "outputs": [
    {
     "data": {
      "text/html": [
       "<div>\n",
       "<style scoped>\n",
       "    .dataframe tbody tr th:only-of-type {\n",
       "        vertical-align: middle;\n",
       "    }\n",
       "\n",
       "    .dataframe tbody tr th {\n",
       "        vertical-align: top;\n",
       "    }\n",
       "\n",
       "    .dataframe thead th {\n",
       "        text-align: right;\n",
       "    }\n",
       "</style>\n",
       "<table border=\"1\" class=\"dataframe\">\n",
       "  <thead>\n",
       "    <tr style=\"text-align: right;\">\n",
       "      <th></th>\n",
       "      <th>Bank Name</th>\n",
       "      <th>City</th>\n",
       "      <th>ST</th>\n",
       "      <th>CERT</th>\n",
       "      <th>Acquiring Institution</th>\n",
       "      <th>Closing Date</th>\n",
       "      <th>Updated Date</th>\n",
       "    </tr>\n",
       "  </thead>\n",
       "  <tbody>\n",
       "    <tr>\n",
       "      <th>0</th>\n",
       "      <td>Banks of Wisconsin d/b/a Bank of Kenosha</td>\n",
       "      <td>Kenosha</td>\n",
       "      <td>WI</td>\n",
       "      <td>35386.0</td>\n",
       "      <td>North Shore Bank, FSB</td>\n",
       "      <td>31-May-13</td>\n",
       "      <td>31-May-13</td>\n",
       "    </tr>\n",
       "    <tr>\n",
       "      <th>1</th>\n",
       "      <td>NaN</td>\n",
       "      <td>NaN</td>\n",
       "      <td>NaN</td>\n",
       "      <td>NaN</td>\n",
       "      <td>NaN</td>\n",
       "      <td>NaN</td>\n",
       "      <td>NaN</td>\n",
       "    </tr>\n",
       "    <tr>\n",
       "      <th>2</th>\n",
       "      <td>Sunrise Bank</td>\n",
       "      <td>Valdosta</td>\n",
       "      <td>GA</td>\n",
       "      <td>58185.0</td>\n",
       "      <td>Synovus Bank</td>\n",
       "      <td>10-May-13</td>\n",
       "      <td>21-May-13</td>\n",
       "    </tr>\n",
       "    <tr>\n",
       "      <th>3</th>\n",
       "      <td>Pisgah Community Bank</td>\n",
       "      <td>Asheville</td>\n",
       "      <td>NC</td>\n",
       "      <td>58701.0</td>\n",
       "      <td>Capital Bank, N.A.</td>\n",
       "      <td>10-May-13</td>\n",
       "      <td>14-May-13</td>\n",
       "    </tr>\n",
       "    <tr>\n",
       "      <th>4</th>\n",
       "      <td>Douglas County Bank</td>\n",
       "      <td>Douglasville</td>\n",
       "      <td>GA</td>\n",
       "      <td>21649.0</td>\n",
       "      <td>Hamilton State Bank</td>\n",
       "      <td>26-Apr-13</td>\n",
       "      <td>16-May-13</td>\n",
       "    </tr>\n",
       "  </tbody>\n",
       "</table>\n",
       "</div>"
      ],
      "text/plain": [
       "                                  Bank Name          City   ST     CERT  \\\n",
       "0  Banks of Wisconsin d/b/a Bank of Kenosha       Kenosha   WI  35386.0   \n",
       "1                                       NaN           NaN  NaN      NaN   \n",
       "2                              Sunrise Bank      Valdosta   GA  58185.0   \n",
       "3                     Pisgah Community Bank     Asheville   NC  58701.0   \n",
       "4                       Douglas County Bank  Douglasville   GA  21649.0   \n",
       "\n",
       "   Acquiring Institution Closing Date Updated Date  \n",
       "0  North Shore Bank, FSB    31-May-13    31-May-13  \n",
       "1                    NaN          NaN          NaN  \n",
       "2           Synovus Bank    10-May-13    21-May-13  \n",
       "3     Capital Bank, N.A.    10-May-13    14-May-13  \n",
       "4    Hamilton State Bank    26-Apr-13    16-May-13  "
      ]
     },
     "execution_count": 18,
     "metadata": {},
     "output_type": "execute_result"
    }
   ],
   "source": [
    "df.head()"
   ]
  },
  {
   "cell_type": "code",
   "execution_count": 19,
   "metadata": {},
   "outputs": [
    {
     "data": {
      "text/plain": [
       "Bank Name                 object\n",
       "City                      object\n",
       "ST                        object\n",
       "CERT                     float64\n",
       "Acquiring Institution     object\n",
       "Closing Date              object\n",
       "Updated Date              object\n",
       "dtype: object"
      ]
     },
     "execution_count": 19,
     "metadata": {},
     "output_type": "execute_result"
    }
   ],
   "source": [
    "df.dtypes"
   ]
  },
  {
   "cell_type": "code",
   "execution_count": 20,
   "metadata": {},
   "outputs": [
    {
     "data": {
      "text/plain": [
       "Bank Name                True\n",
       "City                     True\n",
       "ST                       True\n",
       "CERT                     True\n",
       "Acquiring Institution    True\n",
       "Closing Date             True\n",
       "Updated Date             True\n",
       "dtype: bool"
      ]
     },
     "execution_count": 20,
     "metadata": {},
     "output_type": "execute_result"
    }
   ],
   "source": [
    "df.isnull().any(axis = 0)"
   ]
  },
  {
   "cell_type": "code",
   "execution_count": 21,
   "metadata": {},
   "outputs": [
    {
     "data": {
      "text/plain": [
       "Bank Name                2\n",
       "City                     1\n",
       "ST                       2\n",
       "CERT                     4\n",
       "Acquiring Institution    2\n",
       "Closing Date             1\n",
       "Updated Date             3\n",
       "dtype: int64"
      ]
     },
     "execution_count": 21,
     "metadata": {},
     "output_type": "execute_result"
    }
   ],
   "source": [
    "df.isnull().sum()"
   ]
  },
  {
   "cell_type": "code",
   "execution_count": 22,
   "metadata": {},
   "outputs": [],
   "source": [
    "# df['Bank Name'] = df['Bank Name'].fillna('Bank of America (DUMMY)')\n",
    "# df['City'] = df['City'].fillna('New York')\n",
    "\n",
    "# Alternate Method of using dictionaries\n",
    "missing_value_dict = {\n",
    "    'Bank Name' : 'Bank of America (DUMMY)', \n",
    "    'City' : 'New York',\n",
    "    'ST' : 'DU',\n",
    "    'CERT': int(df['CERT'].mean()),\n",
    "    'Acquiring Institution' : 'Federal Government',\n",
    "    'Closing Date' : '1- Jan - 13',\n",
    "    'Updated Date' : '1- Jan - 13'\n",
    "}\n",
    "\n",
    "\n",
    "df = df.fillna(missing_value_dict)"
   ]
  },
  {
   "cell_type": "code",
   "execution_count": 23,
   "metadata": {},
   "outputs": [
    {
     "data": {
      "text/html": [
       "<div>\n",
       "<style scoped>\n",
       "    .dataframe tbody tr th:only-of-type {\n",
       "        vertical-align: middle;\n",
       "    }\n",
       "\n",
       "    .dataframe tbody tr th {\n",
       "        vertical-align: top;\n",
       "    }\n",
       "\n",
       "    .dataframe thead th {\n",
       "        text-align: right;\n",
       "    }\n",
       "</style>\n",
       "<table border=\"1\" class=\"dataframe\">\n",
       "  <thead>\n",
       "    <tr style=\"text-align: right;\">\n",
       "      <th></th>\n",
       "      <th>Bank Name</th>\n",
       "      <th>City</th>\n",
       "      <th>ST</th>\n",
       "      <th>CERT</th>\n",
       "      <th>Acquiring Institution</th>\n",
       "      <th>Closing Date</th>\n",
       "      <th>Updated Date</th>\n",
       "    </tr>\n",
       "  </thead>\n",
       "  <tbody>\n",
       "    <tr>\n",
       "      <th>0</th>\n",
       "      <td>Banks of Wisconsin d/b/a Bank of Kenosha</td>\n",
       "      <td>Kenosha</td>\n",
       "      <td>WI</td>\n",
       "      <td>35386.0</td>\n",
       "      <td>North Shore Bank, FSB</td>\n",
       "      <td>31-May-13</td>\n",
       "      <td>31-May-13</td>\n",
       "    </tr>\n",
       "    <tr>\n",
       "      <th>1</th>\n",
       "      <td>Bank of America (DUMMY)</td>\n",
       "      <td>New York</td>\n",
       "      <td>DU</td>\n",
       "      <td>31979.0</td>\n",
       "      <td>Federal Government</td>\n",
       "      <td>1- Jan - 13</td>\n",
       "      <td>1- Jan - 13</td>\n",
       "    </tr>\n",
       "    <tr>\n",
       "      <th>2</th>\n",
       "      <td>Sunrise Bank</td>\n",
       "      <td>Valdosta</td>\n",
       "      <td>GA</td>\n",
       "      <td>58185.0</td>\n",
       "      <td>Synovus Bank</td>\n",
       "      <td>10-May-13</td>\n",
       "      <td>21-May-13</td>\n",
       "    </tr>\n",
       "    <tr>\n",
       "      <th>3</th>\n",
       "      <td>Pisgah Community Bank</td>\n",
       "      <td>Asheville</td>\n",
       "      <td>NC</td>\n",
       "      <td>58701.0</td>\n",
       "      <td>Capital Bank, N.A.</td>\n",
       "      <td>10-May-13</td>\n",
       "      <td>14-May-13</td>\n",
       "    </tr>\n",
       "    <tr>\n",
       "      <th>4</th>\n",
       "      <td>Douglas County Bank</td>\n",
       "      <td>Douglasville</td>\n",
       "      <td>GA</td>\n",
       "      <td>21649.0</td>\n",
       "      <td>Hamilton State Bank</td>\n",
       "      <td>26-Apr-13</td>\n",
       "      <td>16-May-13</td>\n",
       "    </tr>\n",
       "  </tbody>\n",
       "</table>\n",
       "</div>"
      ],
      "text/plain": [
       "                                  Bank Name          City  ST     CERT  \\\n",
       "0  Banks of Wisconsin d/b/a Bank of Kenosha       Kenosha  WI  35386.0   \n",
       "1                   Bank of America (DUMMY)      New York  DU  31979.0   \n",
       "2                              Sunrise Bank      Valdosta  GA  58185.0   \n",
       "3                     Pisgah Community Bank     Asheville  NC  58701.0   \n",
       "4                       Douglas County Bank  Douglasville  GA  21649.0   \n",
       "\n",
       "   Acquiring Institution Closing Date Updated Date  \n",
       "0  North Shore Bank, FSB    31-May-13    31-May-13  \n",
       "1     Federal Government  1- Jan - 13  1- Jan - 13  \n",
       "2           Synovus Bank    10-May-13    21-May-13  \n",
       "3     Capital Bank, N.A.    10-May-13    14-May-13  \n",
       "4    Hamilton State Bank    26-Apr-13    16-May-13  "
      ]
     },
     "execution_count": 23,
     "metadata": {},
     "output_type": "execute_result"
    }
   ],
   "source": [
    "df.head()"
   ]
  },
  {
   "cell_type": "code",
   "execution_count": 24,
   "metadata": {},
   "outputs": [],
   "source": [
    "# Renaming Columns\n",
    "\n",
    "df = df.rename(columns={'ST':'State'})"
   ]
  },
  {
   "cell_type": "code",
   "execution_count": 25,
   "metadata": {},
   "outputs": [
    {
     "data": {
      "text/plain": [
       "Bank Name                 object\n",
       "City                      object\n",
       "State                     object\n",
       "CERT                     float64\n",
       "Acquiring Institution     object\n",
       "Closing Date              object\n",
       "Updated Date              object\n",
       "dtype: object"
      ]
     },
     "execution_count": 25,
     "metadata": {},
     "output_type": "execute_result"
    }
   ],
   "source": [
    "df.dtypes"
   ]
  },
  {
   "cell_type": "code",
   "execution_count": 26,
   "metadata": {},
   "outputs": [],
   "source": [
    "df['New Cert'] = df['CERT'].astype('int64')"
   ]
  },
  {
   "cell_type": "code",
   "execution_count": 27,
   "metadata": {},
   "outputs": [
    {
     "data": {
      "text/html": [
       "<div>\n",
       "<style scoped>\n",
       "    .dataframe tbody tr th:only-of-type {\n",
       "        vertical-align: middle;\n",
       "    }\n",
       "\n",
       "    .dataframe tbody tr th {\n",
       "        vertical-align: top;\n",
       "    }\n",
       "\n",
       "    .dataframe thead th {\n",
       "        text-align: right;\n",
       "    }\n",
       "</style>\n",
       "<table border=\"1\" class=\"dataframe\">\n",
       "  <thead>\n",
       "    <tr style=\"text-align: right;\">\n",
       "      <th></th>\n",
       "      <th>Bank Name</th>\n",
       "      <th>City</th>\n",
       "      <th>State</th>\n",
       "      <th>CERT</th>\n",
       "      <th>Acquiring Institution</th>\n",
       "      <th>Closing Date</th>\n",
       "      <th>Updated Date</th>\n",
       "      <th>New Cert</th>\n",
       "    </tr>\n",
       "  </thead>\n",
       "  <tbody>\n",
       "    <tr>\n",
       "      <th>0</th>\n",
       "      <td>Banks of Wisconsin d/b/a Bank of Kenosha</td>\n",
       "      <td>Kenosha</td>\n",
       "      <td>WI</td>\n",
       "      <td>35386.0</td>\n",
       "      <td>North Shore Bank, FSB</td>\n",
       "      <td>31-May-13</td>\n",
       "      <td>31-May-13</td>\n",
       "      <td>35386</td>\n",
       "    </tr>\n",
       "    <tr>\n",
       "      <th>1</th>\n",
       "      <td>Bank of America (DUMMY)</td>\n",
       "      <td>New York</td>\n",
       "      <td>DU</td>\n",
       "      <td>31979.0</td>\n",
       "      <td>Federal Government</td>\n",
       "      <td>1- Jan - 13</td>\n",
       "      <td>1- Jan - 13</td>\n",
       "      <td>31979</td>\n",
       "    </tr>\n",
       "    <tr>\n",
       "      <th>2</th>\n",
       "      <td>Sunrise Bank</td>\n",
       "      <td>Valdosta</td>\n",
       "      <td>GA</td>\n",
       "      <td>58185.0</td>\n",
       "      <td>Synovus Bank</td>\n",
       "      <td>10-May-13</td>\n",
       "      <td>21-May-13</td>\n",
       "      <td>58185</td>\n",
       "    </tr>\n",
       "    <tr>\n",
       "      <th>3</th>\n",
       "      <td>Pisgah Community Bank</td>\n",
       "      <td>Asheville</td>\n",
       "      <td>NC</td>\n",
       "      <td>58701.0</td>\n",
       "      <td>Capital Bank, N.A.</td>\n",
       "      <td>10-May-13</td>\n",
       "      <td>14-May-13</td>\n",
       "      <td>58701</td>\n",
       "    </tr>\n",
       "    <tr>\n",
       "      <th>4</th>\n",
       "      <td>Douglas County Bank</td>\n",
       "      <td>Douglasville</td>\n",
       "      <td>GA</td>\n",
       "      <td>21649.0</td>\n",
       "      <td>Hamilton State Bank</td>\n",
       "      <td>26-Apr-13</td>\n",
       "      <td>16-May-13</td>\n",
       "      <td>21649</td>\n",
       "    </tr>\n",
       "  </tbody>\n",
       "</table>\n",
       "</div>"
      ],
      "text/plain": [
       "                                  Bank Name          City State     CERT  \\\n",
       "0  Banks of Wisconsin d/b/a Bank of Kenosha       Kenosha    WI  35386.0   \n",
       "1                   Bank of America (DUMMY)      New York    DU  31979.0   \n",
       "2                              Sunrise Bank      Valdosta    GA  58185.0   \n",
       "3                     Pisgah Community Bank     Asheville    NC  58701.0   \n",
       "4                       Douglas County Bank  Douglasville    GA  21649.0   \n",
       "\n",
       "   Acquiring Institution Closing Date Updated Date  New Cert  \n",
       "0  North Shore Bank, FSB    31-May-13    31-May-13     35386  \n",
       "1     Federal Government  1- Jan - 13  1- Jan - 13     31979  \n",
       "2           Synovus Bank    10-May-13    21-May-13     58185  \n",
       "3     Capital Bank, N.A.    10-May-13    14-May-13     58701  \n",
       "4    Hamilton State Bank    26-Apr-13    16-May-13     21649  "
      ]
     },
     "execution_count": 27,
     "metadata": {},
     "output_type": "execute_result"
    }
   ],
   "source": [
    "df.head()"
   ]
  },
  {
   "cell_type": "code",
   "execution_count": 28,
   "metadata": {},
   "outputs": [
    {
     "data": {
      "text/plain": [
       "' \\nWhen using .apply() we typically use it like .apply(lambda x : x**2) , Here x is a series containing the column\\nwhen we use .applymap() , the x is an individual element NOT a whole series\\n'"
      ]
     },
     "execution_count": 28,
     "metadata": {},
     "output_type": "execute_result"
    }
   ],
   "source": [
    "''' \n",
    "When using .apply() we typically use it like .apply(lambda x : x**2) , Here x is a series containing the column\n",
    "when we use .applymap() , the x is an individual element NOT a whole series\n",
    "'''"
   ]
  },
  {
   "cell_type": "code",
   "execution_count": 29,
   "metadata": {},
   "outputs": [
    {
     "data": {
      "text/html": [
       "<div>\n",
       "<style scoped>\n",
       "    .dataframe tbody tr th:only-of-type {\n",
       "        vertical-align: middle;\n",
       "    }\n",
       "\n",
       "    .dataframe tbody tr th {\n",
       "        vertical-align: top;\n",
       "    }\n",
       "\n",
       "    .dataframe thead th {\n",
       "        text-align: right;\n",
       "    }\n",
       "</style>\n",
       "<table border=\"1\" class=\"dataframe\">\n",
       "  <thead>\n",
       "    <tr style=\"text-align: right;\">\n",
       "      <th></th>\n",
       "      <th>Bank Name</th>\n",
       "      <th>City</th>\n",
       "      <th>State</th>\n",
       "      <th>CERT</th>\n",
       "      <th>Acquiring Institution</th>\n",
       "      <th>Closing Date</th>\n",
       "      <th>Updated Date</th>\n",
       "      <th>New Cert</th>\n",
       "    </tr>\n",
       "  </thead>\n",
       "  <tbody>\n",
       "    <tr>\n",
       "      <th>0</th>\n",
       "      <td>Banks of Wisconsin d/b/a Bank of Kenosha</td>\n",
       "      <td>Kenosha</td>\n",
       "      <td>WI</td>\n",
       "      <td>35386.0</td>\n",
       "      <td>North Shore Bank, FSB</td>\n",
       "      <td>31-May-13</td>\n",
       "      <td>31-May-13</td>\n",
       "      <td>35396</td>\n",
       "    </tr>\n",
       "    <tr>\n",
       "      <th>1</th>\n",
       "      <td>Bank of America (DUMMY)</td>\n",
       "      <td>New York</td>\n",
       "      <td>DU</td>\n",
       "      <td>31979.0</td>\n",
       "      <td>Federal Government</td>\n",
       "      <td>1- Jan - 13</td>\n",
       "      <td>1- Jan - 13</td>\n",
       "      <td>31989</td>\n",
       "    </tr>\n",
       "    <tr>\n",
       "      <th>2</th>\n",
       "      <td>Sunrise Bank</td>\n",
       "      <td>Valdosta</td>\n",
       "      <td>GA</td>\n",
       "      <td>58185.0</td>\n",
       "      <td>Synovus Bank</td>\n",
       "      <td>10-May-13</td>\n",
       "      <td>21-May-13</td>\n",
       "      <td>58195</td>\n",
       "    </tr>\n",
       "    <tr>\n",
       "      <th>3</th>\n",
       "      <td>Pisgah Community Bank</td>\n",
       "      <td>Asheville</td>\n",
       "      <td>NC</td>\n",
       "      <td>58701.0</td>\n",
       "      <td>Capital Bank, N.A.</td>\n",
       "      <td>10-May-13</td>\n",
       "      <td>14-May-13</td>\n",
       "      <td>58711</td>\n",
       "    </tr>\n",
       "    <tr>\n",
       "      <th>4</th>\n",
       "      <td>Douglas County Bank</td>\n",
       "      <td>Douglasville</td>\n",
       "      <td>GA</td>\n",
       "      <td>21649.0</td>\n",
       "      <td>Hamilton State Bank</td>\n",
       "      <td>26-Apr-13</td>\n",
       "      <td>16-May-13</td>\n",
       "      <td>21659</td>\n",
       "    </tr>\n",
       "  </tbody>\n",
       "</table>\n",
       "</div>"
      ],
      "text/plain": [
       "                                  Bank Name          City State     CERT  \\\n",
       "0  Banks of Wisconsin d/b/a Bank of Kenosha       Kenosha    WI  35386.0   \n",
       "1                   Bank of America (DUMMY)      New York    DU  31979.0   \n",
       "2                              Sunrise Bank      Valdosta    GA  58185.0   \n",
       "3                     Pisgah Community Bank     Asheville    NC  58701.0   \n",
       "4                       Douglas County Bank  Douglasville    GA  21649.0   \n",
       "\n",
       "   Acquiring Institution Closing Date Updated Date  New Cert  \n",
       "0  North Shore Bank, FSB    31-May-13    31-May-13     35396  \n",
       "1     Federal Government  1- Jan - 13  1- Jan - 13     31989  \n",
       "2           Synovus Bank    10-May-13    21-May-13     58195  \n",
       "3     Capital Bank, N.A.    10-May-13    14-May-13     58711  \n",
       "4    Hamilton State Bank    26-Apr-13    16-May-13     21659  "
      ]
     },
     "execution_count": 29,
     "metadata": {},
     "output_type": "execute_result"
    }
   ],
   "source": [
    "df['New Cert'] = df['New Cert'].apply(lambda X : X + 10)\n",
    "df.head()"
   ]
  },
  {
   "cell_type": "code",
   "execution_count": 30,
   "metadata": {},
   "outputs": [
    {
     "data": {
      "text/plain": [
       "State  City        \n",
       "AL     Birmingham      19891.333333\n",
       "       Fort Deposit    24957.000000\n",
       "       Irondale        32276.000000\n",
       "       Montgomery       9609.000000\n",
       "       Sylacauga       35224.000000\n",
       "                           ...     \n",
       "WI     Racine          18321.000000\n",
       "       Stoughton        5328.000000\n",
       "       West Allis      28612.000000\n",
       "WV     Northfork        6782.000000\n",
       "WY     Thermopolis     22754.000000\n",
       "Name: CERT, Length: 405, dtype: float64"
      ]
     },
     "execution_count": 30,
     "metadata": {},
     "output_type": "execute_result"
    }
   ],
   "source": [
    "# Data Aggregating And grouping\n",
    "\n",
    "grouped = df.groupby(['State','City'])['CERT'].mean()\n",
    "grouped"
   ]
  },
  {
   "cell_type": "code",
   "execution_count": 31,
   "metadata": {},
   "outputs": [],
   "source": [
    "# First DataFrame: Employee details\n",
    "df1 = pd.DataFrame({\n",
    "    'EmployeeID': [101, 102, 103, 104],\n",
    "    'Name': ['Alice', 'Bob', 'Charlie', 'David'],\n",
    "    'Department': ['HR', 'Finance', 'IT', 'Marketing']\n",
    "})\n",
    "\n",
    "# Second DataFrame: Employee salary details\n",
    "df2 = pd.DataFrame({\n",
    "    'EmployeeID': [101, 102, 105],\n",
    "    'Salary': [50000, 60000, 70000],\n",
    "    'Bonus': [5000, 7000, 8000]\n",
    "})\n"
   ]
  },
  {
   "cell_type": "code",
   "execution_count": 32,
   "metadata": {},
   "outputs": [
    {
     "data": {
      "text/html": [
       "<div>\n",
       "<style scoped>\n",
       "    .dataframe tbody tr th:only-of-type {\n",
       "        vertical-align: middle;\n",
       "    }\n",
       "\n",
       "    .dataframe tbody tr th {\n",
       "        vertical-align: top;\n",
       "    }\n",
       "\n",
       "    .dataframe thead th {\n",
       "        text-align: right;\n",
       "    }\n",
       "</style>\n",
       "<table border=\"1\" class=\"dataframe\">\n",
       "  <thead>\n",
       "    <tr style=\"text-align: right;\">\n",
       "      <th></th>\n",
       "      <th>EmployeeID</th>\n",
       "      <th>Name</th>\n",
       "      <th>Department</th>\n",
       "      <th>Salary</th>\n",
       "      <th>Bonus</th>\n",
       "    </tr>\n",
       "  </thead>\n",
       "  <tbody>\n",
       "    <tr>\n",
       "      <th>0</th>\n",
       "      <td>101</td>\n",
       "      <td>Alice</td>\n",
       "      <td>HR</td>\n",
       "      <td>50000.0</td>\n",
       "      <td>5000.0</td>\n",
       "    </tr>\n",
       "    <tr>\n",
       "      <th>1</th>\n",
       "      <td>102</td>\n",
       "      <td>Bob</td>\n",
       "      <td>Finance</td>\n",
       "      <td>60000.0</td>\n",
       "      <td>7000.0</td>\n",
       "    </tr>\n",
       "    <tr>\n",
       "      <th>2</th>\n",
       "      <td>103</td>\n",
       "      <td>Charlie</td>\n",
       "      <td>IT</td>\n",
       "      <td>NaN</td>\n",
       "      <td>NaN</td>\n",
       "    </tr>\n",
       "    <tr>\n",
       "      <th>3</th>\n",
       "      <td>104</td>\n",
       "      <td>David</td>\n",
       "      <td>Marketing</td>\n",
       "      <td>NaN</td>\n",
       "      <td>NaN</td>\n",
       "    </tr>\n",
       "  </tbody>\n",
       "</table>\n",
       "</div>"
      ],
      "text/plain": [
       "   EmployeeID     Name Department   Salary   Bonus\n",
       "0         101    Alice         HR  50000.0  5000.0\n",
       "1         102      Bob    Finance  60000.0  7000.0\n",
       "2         103  Charlie         IT      NaN     NaN\n",
       "3         104    David  Marketing      NaN     NaN"
      ]
     },
     "execution_count": 32,
     "metadata": {},
     "output_type": "execute_result"
    }
   ],
   "source": [
    "df1.merge(df2,how = 'left')"
   ]
  },
  {
   "cell_type": "code",
   "execution_count": 33,
   "metadata": {},
   "outputs": [
    {
     "data": {
      "text/html": [
       "<div>\n",
       "<style scoped>\n",
       "    .dataframe tbody tr th:only-of-type {\n",
       "        vertical-align: middle;\n",
       "    }\n",
       "\n",
       "    .dataframe tbody tr th {\n",
       "        vertical-align: top;\n",
       "    }\n",
       "\n",
       "    .dataframe thead th {\n",
       "        text-align: right;\n",
       "    }\n",
       "</style>\n",
       "<table border=\"1\" class=\"dataframe\">\n",
       "  <thead>\n",
       "    <tr style=\"text-align: right;\">\n",
       "      <th></th>\n",
       "      <th>EmployeeID</th>\n",
       "      <th>Name</th>\n",
       "      <th>Department</th>\n",
       "      <th>Salary</th>\n",
       "      <th>Bonus</th>\n",
       "    </tr>\n",
       "  </thead>\n",
       "  <tbody>\n",
       "    <tr>\n",
       "      <th>0</th>\n",
       "      <td>101</td>\n",
       "      <td>Alice</td>\n",
       "      <td>HR</td>\n",
       "      <td>50000</td>\n",
       "      <td>5000</td>\n",
       "    </tr>\n",
       "    <tr>\n",
       "      <th>1</th>\n",
       "      <td>102</td>\n",
       "      <td>Bob</td>\n",
       "      <td>Finance</td>\n",
       "      <td>60000</td>\n",
       "      <td>7000</td>\n",
       "    </tr>\n",
       "    <tr>\n",
       "      <th>2</th>\n",
       "      <td>105</td>\n",
       "      <td>NaN</td>\n",
       "      <td>NaN</td>\n",
       "      <td>70000</td>\n",
       "      <td>8000</td>\n",
       "    </tr>\n",
       "  </tbody>\n",
       "</table>\n",
       "</div>"
      ],
      "text/plain": [
       "   EmployeeID   Name Department  Salary  Bonus\n",
       "0         101  Alice         HR   50000   5000\n",
       "1         102    Bob    Finance   60000   7000\n",
       "2         105    NaN        NaN   70000   8000"
      ]
     },
     "execution_count": 33,
     "metadata": {},
     "output_type": "execute_result"
    }
   ],
   "source": [
    "df1.merge(df2,how = \"right\")"
   ]
  },
  {
   "cell_type": "code",
   "execution_count": 35,
   "metadata": {},
   "outputs": [
    {
     "data": {
      "text/html": [
       "<div>\n",
       "<style scoped>\n",
       "    .dataframe tbody tr th:only-of-type {\n",
       "        vertical-align: middle;\n",
       "    }\n",
       "\n",
       "    .dataframe tbody tr th {\n",
       "        vertical-align: top;\n",
       "    }\n",
       "\n",
       "    .dataframe thead th {\n",
       "        text-align: right;\n",
       "    }\n",
       "</style>\n",
       "<table border=\"1\" class=\"dataframe\">\n",
       "  <thead>\n",
       "    <tr style=\"text-align: right;\">\n",
       "      <th></th>\n",
       "      <th>EmployeeID</th>\n",
       "      <th>Name</th>\n",
       "      <th>Department</th>\n",
       "      <th>Salary</th>\n",
       "      <th>Bonus</th>\n",
       "    </tr>\n",
       "  </thead>\n",
       "  <tbody>\n",
       "    <tr>\n",
       "      <th>0</th>\n",
       "      <td>101</td>\n",
       "      <td>Alice</td>\n",
       "      <td>HR</td>\n",
       "      <td>50000</td>\n",
       "      <td>5000</td>\n",
       "    </tr>\n",
       "    <tr>\n",
       "      <th>1</th>\n",
       "      <td>102</td>\n",
       "      <td>Bob</td>\n",
       "      <td>Finance</td>\n",
       "      <td>60000</td>\n",
       "      <td>7000</td>\n",
       "    </tr>\n",
       "  </tbody>\n",
       "</table>\n",
       "</div>"
      ],
      "text/plain": [
       "   EmployeeID   Name Department  Salary  Bonus\n",
       "0         101  Alice         HR   50000   5000\n",
       "1         102    Bob    Finance   60000   7000"
      ]
     },
     "execution_count": 35,
     "metadata": {},
     "output_type": "execute_result"
    }
   ],
   "source": [
    "df1.merge(df2,how = \"inner\")"
   ]
  },
  {
   "cell_type": "code",
   "execution_count": 36,
   "metadata": {},
   "outputs": [
    {
     "data": {
      "text/html": [
       "<div>\n",
       "<style scoped>\n",
       "    .dataframe tbody tr th:only-of-type {\n",
       "        vertical-align: middle;\n",
       "    }\n",
       "\n",
       "    .dataframe tbody tr th {\n",
       "        vertical-align: top;\n",
       "    }\n",
       "\n",
       "    .dataframe thead th {\n",
       "        text-align: right;\n",
       "    }\n",
       "</style>\n",
       "<table border=\"1\" class=\"dataframe\">\n",
       "  <thead>\n",
       "    <tr style=\"text-align: right;\">\n",
       "      <th></th>\n",
       "      <th>EmployeeID</th>\n",
       "      <th>Name</th>\n",
       "      <th>Department</th>\n",
       "      <th>Salary</th>\n",
       "      <th>Bonus</th>\n",
       "    </tr>\n",
       "  </thead>\n",
       "  <tbody>\n",
       "    <tr>\n",
       "      <th>0</th>\n",
       "      <td>101</td>\n",
       "      <td>Alice</td>\n",
       "      <td>HR</td>\n",
       "      <td>50000.0</td>\n",
       "      <td>5000.0</td>\n",
       "    </tr>\n",
       "    <tr>\n",
       "      <th>1</th>\n",
       "      <td>102</td>\n",
       "      <td>Bob</td>\n",
       "      <td>Finance</td>\n",
       "      <td>60000.0</td>\n",
       "      <td>7000.0</td>\n",
       "    </tr>\n",
       "    <tr>\n",
       "      <th>2</th>\n",
       "      <td>103</td>\n",
       "      <td>Charlie</td>\n",
       "      <td>IT</td>\n",
       "      <td>NaN</td>\n",
       "      <td>NaN</td>\n",
       "    </tr>\n",
       "    <tr>\n",
       "      <th>3</th>\n",
       "      <td>104</td>\n",
       "      <td>David</td>\n",
       "      <td>Marketing</td>\n",
       "      <td>NaN</td>\n",
       "      <td>NaN</td>\n",
       "    </tr>\n",
       "    <tr>\n",
       "      <th>4</th>\n",
       "      <td>105</td>\n",
       "      <td>NaN</td>\n",
       "      <td>NaN</td>\n",
       "      <td>70000.0</td>\n",
       "      <td>8000.0</td>\n",
       "    </tr>\n",
       "  </tbody>\n",
       "</table>\n",
       "</div>"
      ],
      "text/plain": [
       "   EmployeeID     Name Department   Salary   Bonus\n",
       "0         101    Alice         HR  50000.0  5000.0\n",
       "1         102      Bob    Finance  60000.0  7000.0\n",
       "2         103  Charlie         IT      NaN     NaN\n",
       "3         104    David  Marketing      NaN     NaN\n",
       "4         105      NaN        NaN  70000.0  8000.0"
      ]
     },
     "execution_count": 36,
     "metadata": {},
     "output_type": "execute_result"
    }
   ],
   "source": [
    "df1.merge(df2,how = \"outer\")"
   ]
  },
  {
   "cell_type": "code",
   "execution_count": 39,
   "metadata": {},
   "outputs": [
    {
     "data": {
      "text/html": [
       "<div>\n",
       "<style scoped>\n",
       "    .dataframe tbody tr th:only-of-type {\n",
       "        vertical-align: middle;\n",
       "    }\n",
       "\n",
       "    .dataframe tbody tr th {\n",
       "        vertical-align: top;\n",
       "    }\n",
       "\n",
       "    .dataframe thead th {\n",
       "        text-align: right;\n",
       "    }\n",
       "</style>\n",
       "<table border=\"1\" class=\"dataframe\">\n",
       "  <thead>\n",
       "    <tr style=\"text-align: right;\">\n",
       "      <th></th>\n",
       "      <th>name</th>\n",
       "      <th>age</th>\n",
       "    </tr>\n",
       "  </thead>\n",
       "  <tbody>\n",
       "    <tr>\n",
       "      <th>0</th>\n",
       "      <td>John</td>\n",
       "      <td>28</td>\n",
       "    </tr>\n",
       "    <tr>\n",
       "      <th>1</th>\n",
       "      <td>Jane</td>\n",
       "      <td>34</td>\n",
       "    </tr>\n",
       "  </tbody>\n",
       "</table>\n",
       "</div>"
      ],
      "text/plain": [
       "   name  age\n",
       "0  John   28\n",
       "1  Jane   34"
      ]
     },
     "execution_count": 39,
     "metadata": {},
     "output_type": "execute_result"
    }
   ],
   "source": [
    "# Reading Data From Various Sources in pandas \n",
    "from io import StringIO\n",
    "\n",
    "json_string = '{\"name\": [\"John\", \"Jane\"], \"age\": [28, 34]}'\n",
    "json_data = StringIO(json_string)\n",
    "\n",
    "df = pd.read_json(json_data)\n",
    "df"
   ]
  },
  {
   "cell_type": "code",
   "execution_count": 47,
   "metadata": {},
   "outputs": [
    {
     "data": {
      "text/plain": [
       "'[[\"John\",28],[\"Jane\",34]]'"
      ]
     },
     "execution_count": 47,
     "metadata": {},
     "output_type": "execute_result"
    }
   ],
   "source": [
    "json = df.to_json(orient = \"values\")\n",
    "json"
   ]
  },
  {
   "cell_type": "code",
   "execution_count": 75,
   "metadata": {},
   "outputs": [
    {
     "data": {
      "text/html": [
       "<div>\n",
       "<style scoped>\n",
       "    .dataframe tbody tr th:only-of-type {\n",
       "        vertical-align: middle;\n",
       "    }\n",
       "\n",
       "    .dataframe tbody tr th {\n",
       "        vertical-align: top;\n",
       "    }\n",
       "\n",
       "    .dataframe thead th {\n",
       "        text-align: right;\n",
       "    }\n",
       "</style>\n",
       "<table border=\"1\" class=\"dataframe\">\n",
       "  <thead>\n",
       "    <tr style=\"text-align: right;\">\n",
       "      <th></th>\n",
       "      <th>Season</th>\n",
       "      <th>Winner's Country</th>\n",
       "      <th>Winners</th>\n",
       "      <th>Score</th>\n",
       "      <th>Runners-up</th>\n",
       "      <th>Runners-up's Country</th>\n",
       "      <th>Venue</th>\n",
       "      <th>Attend­ance</th>\n",
       "    </tr>\n",
       "  </thead>\n",
       "  <tbody>\n",
       "    <tr>\n",
       "      <th>65</th>\n",
       "      <td>2019–20</td>\n",
       "      <td>Germany</td>\n",
       "      <td>Bayern Munich</td>\n",
       "      <td>1–0</td>\n",
       "      <td>Paris Saint-Germain</td>\n",
       "      <td>France</td>\n",
       "      <td>Estádio da Luz, Lisbon, Portugal</td>\n",
       "      <td>0[l]</td>\n",
       "    </tr>\n",
       "    <tr>\n",
       "      <th>66</th>\n",
       "      <td>2020–21</td>\n",
       "      <td>England</td>\n",
       "      <td>Chelsea</td>\n",
       "      <td>1–0</td>\n",
       "      <td>Manchester City</td>\n",
       "      <td>England</td>\n",
       "      <td>Estádio do Dragão, Porto, Portugal</td>\n",
       "      <td>14,110[m]</td>\n",
       "    </tr>\n",
       "    <tr>\n",
       "      <th>67</th>\n",
       "      <td>2021–22</td>\n",
       "      <td>Spain</td>\n",
       "      <td>Real Madrid</td>\n",
       "      <td>1–0</td>\n",
       "      <td>Liverpool</td>\n",
       "      <td>England</td>\n",
       "      <td>Stade de France, Saint-Denis, France</td>\n",
       "      <td>75000</td>\n",
       "    </tr>\n",
       "    <tr>\n",
       "      <th>68</th>\n",
       "      <td>2022–23</td>\n",
       "      <td>England</td>\n",
       "      <td>Manchester City</td>\n",
       "      <td>1–0</td>\n",
       "      <td>Inter Milan</td>\n",
       "      <td>Italy</td>\n",
       "      <td>Atatürk Olympic Stadium, Istanbul, Turkey</td>\n",
       "      <td>71412</td>\n",
       "    </tr>\n",
       "    <tr>\n",
       "      <th>69</th>\n",
       "      <td>2023–24</td>\n",
       "      <td>Spain</td>\n",
       "      <td>Real Madrid</td>\n",
       "      <td>2–0</td>\n",
       "      <td>Borussia Dortmund</td>\n",
       "      <td>Germany</td>\n",
       "      <td>Wembley Stadium, London, England</td>\n",
       "      <td>86212</td>\n",
       "    </tr>\n",
       "  </tbody>\n",
       "</table>\n",
       "</div>"
      ],
      "text/plain": [
       "     Season Winner's Country          Winners Score           Runners-up  \\\n",
       "65  2019–20          Germany    Bayern Munich   1–0  Paris Saint-Germain   \n",
       "66  2020–21          England          Chelsea   1–0      Manchester City   \n",
       "67  2021–22            Spain      Real Madrid   1–0            Liverpool   \n",
       "68  2022–23          England  Manchester City   1–0          Inter Milan   \n",
       "69  2023–24            Spain      Real Madrid   2–0    Borussia Dortmund   \n",
       "\n",
       "   Runners-up's Country                                      Venue Attend­ance  \n",
       "65               France           Estádio da Luz, Lisbon, Portugal        0[l]  \n",
       "66              England         Estádio do Dragão, Porto, Portugal   14,110[m]  \n",
       "67              England       Stade de France, Saint-Denis, France       75000  \n",
       "68                Italy  Atatürk Olympic Stadium, Istanbul, Turkey       71412  \n",
       "69              Germany           Wembley Stadium, London, England       86212  "
      ]
     },
     "execution_count": 75,
     "metadata": {},
     "output_type": "execute_result"
    }
   ],
   "source": [
    "ucl_df_all = pd.read_html('https://en.wikipedia.org/wiki/List_of_European_Cup_and_UEFA_Champions_League_finals')\n",
    "ucl_df_all[2]\n",
    "ucl_df = ucl_df_all[2]\n",
    "\n",
    "\n",
    "ucl_df = ucl_df.fillna('TBD')\n",
    "ucl_df = ucl_df.drop([70,71,72,73])\n",
    "ucl_df = ucl_df.rename(columns={'Country' : \"Winner's Country\",'Country.1':\"Runners-up's Country\",\"Attend­ance[15]\":\"Attend­ance\"})\n",
    "ucl_df.to_csv('ucl_data.csv',index=False)\n",
    "ucl_df.tail()"
   ]
  },
  {
   "cell_type": "code",
   "execution_count": null,
   "metadata": {},
   "outputs": [],
   "source": []
  }
 ],
 "metadata": {
  "kernelspec": {
   "display_name": "base",
   "language": "python",
   "name": "python3"
  },
  "language_info": {
   "codemirror_mode": {
    "name": "ipython",
    "version": 3
   },
   "file_extension": ".py",
   "mimetype": "text/x-python",
   "name": "python",
   "nbconvert_exporter": "python",
   "pygments_lexer": "ipython3",
   "version": "3.12.4"
  }
 },
 "nbformat": 4,
 "nbformat_minor": 2
}
