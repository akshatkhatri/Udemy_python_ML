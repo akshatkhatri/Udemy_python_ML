{
 "cells": [
  {
   "cell_type": "code",
   "execution_count": 1,
   "metadata": {},
   "outputs": [
    {
     "name": "stdout",
     "output_type": "stream",
     "text": [
      "78.53981633974483\n",
      "16\n"
     ]
    }
   ],
   "source": [
    "# Question - 1\n",
    "\n",
    "import math\n",
    "\n",
    "class Shape:\n",
    "    def area(self):\n",
    "        pass\n",
    "\n",
    "class Circle(Shape):\n",
    "    def __init__(self, radius):\n",
    "        self.radius = radius\n",
    "\n",
    "    def area(self):\n",
    "        return math.pi * self.radius ** 2\n",
    "\n",
    "class Square(Shape):\n",
    "    def __init__(self, side):\n",
    "        self.side = side\n",
    "\n",
    "    def area(self):\n",
    "        return self.side ** 2\n",
    "\n",
    "shapes = [Circle(5), Square(4)]\n",
    "for shape in shapes:\n",
    "    print(shape.area())"
   ]
  },
  {
   "cell_type": "code",
   "execution_count": 2,
   "metadata": {},
   "outputs": [],
   "source": [
    "# Question 2 (skipped)"
   ]
  },
  {
   "cell_type": "code",
   "execution_count": 4,
   "metadata": {},
   "outputs": [
    {
     "name": "stdout",
     "output_type": "stream",
     "text": [
      "Bike engine Starting\n",
      "Car Engine Starting !\n"
     ]
    }
   ],
   "source": [
    "# Question - 3\n",
    "\n",
    "from abc import ABC,abstractmethod\n",
    "\n",
    "class Vehicle(ABC):\n",
    "    @abstractmethod\n",
    "    def start_engine():\n",
    "        pass\n",
    "\n",
    "class Car(Vehicle):\n",
    "    def start_engine(self):\n",
    "        print('Car Engine Starting !')\n",
    "\n",
    "class Bike(Vehicle):\n",
    "    def start_engine(self):\n",
    "        print('Bike engine Starting')\n",
    "\n",
    "my_bike = Bike()\n",
    "my_car = Car()\n",
    "\n",
    "my_bike.start_engine()\n",
    "my_car.start_engine()"
   ]
  },
  {
   "cell_type": "code",
   "execution_count": 5,
   "metadata": {},
   "outputs": [
    {
     "name": "stdout",
     "output_type": "stream",
     "text": [
      "Diesel fuel \n",
      "\n",
      "petrol fuel \n",
      "\n"
     ]
    }
   ],
   "source": [
    "# Question - 4\n",
    "\n",
    "\n",
    "from abc import ABC,abstractmethod\n",
    "\n",
    "class Vehicle(ABC):\n",
    "    @abstractmethod\n",
    "    def start_engine(self):\n",
    "        pass\n",
    "\n",
    "    def fuel_type(self):\n",
    "        print('generic fuel \\n')\n",
    "\n",
    "class Car(Vehicle):\n",
    "    def start_engine(self):\n",
    "        print('Car Engine Starting !')\n",
    "\n",
    "    def fuel_type(self):\n",
    "        print('petrol fuel \\n')\n",
    "\n",
    "class Bike(Vehicle):\n",
    "    def start_engine(self):\n",
    "        print('Bike engine Starting')\n",
    "    def fuel_type(self):\n",
    "        print('Diesel fuel \\n')\n",
    "\n",
    "my_bike = Bike()\n",
    "my_car = Car()\n",
    "\n",
    "my_bike.fuel_type()\n",
    "my_car.fuel_type()"
   ]
  },
  {
   "cell_type": "code",
   "execution_count": 10,
   "metadata": {},
   "outputs": [
    {
     "name": "stdout",
     "output_type": "stream",
     "text": [
      "insufficient balance !\n",
      "30000\n"
     ]
    }
   ],
   "source": [
    "# Question - 5\n",
    "\n",
    "class BankAccount:\n",
    "    def __init__(self,account_num,balance):\n",
    "        self.__account_num = account_num\n",
    "        self.__balance = balance\n",
    "    \n",
    "    def deposit_money(self,ammount):\n",
    "        self.__balance += ammount\n",
    "    \n",
    "    def withdraw_money(self,ammount):\n",
    "        try:\n",
    "            if ammount > self.__balance:\n",
    "                raise ValueError('insufficient balance')\n",
    "        except ValueError:\n",
    "            print('insufficient balance !')\n",
    "        else:\n",
    "            self.__balance -= ammount\n",
    "    def check_balance(self):\n",
    "        print(self.__balance)\n",
    "\n",
    "\n",
    "my_account = BankAccount(10192,10000)\n",
    "my_account.deposit_money(20000)\n",
    "my_account.withdraw_money(40000)\n",
    "my_account.check_balance()"
   ]
  },
  {
   "cell_type": "code",
   "execution_count": 11,
   "metadata": {},
   "outputs": [],
   "source": [
    "# Question - 6\n",
    "\n",
    "class BankAccount:\n",
    "    def __init__(self, account_number, balance=0):\n",
    "        self.__account_number = account_number\n",
    "        self.__balance = balance\n",
    "\n",
    "    @property\n",
    "    def balance(self):\n",
    "        return self.__balance\n",
    "\n",
    "    @balance.setter\n",
    "    def balance(self, amount):\n",
    "        if amount < 0:\n",
    "            print(\"Balance cannot be negative!\")\n",
    "        else:\n",
    "            self.__balance = amount\n",
    "\n",
    "    def deposit(self, amount):\n",
    "        self.balance += amount\n",
    "\n",
    "    def withdraw(self, amount):\n",
    "        if amount > self.balance:\n",
    "            print(\"Insufficient balance!\")\n",
    "        else:\n",
    "            self.balance -= amount"
   ]
  },
  {
   "cell_type": "code",
   "execution_count": 12,
   "metadata": {},
   "outputs": [],
   "source": [
    "# Question - 7,8,,9,10,11,12,13,14,15, are all repetitive and already explored in 1st Assignment"
   ]
  },
  {
   "cell_type": "code",
   "execution_count": null,
   "metadata": {},
   "outputs": [],
   "source": []
  }
 ],
 "metadata": {
  "kernelspec": {
   "display_name": "Python 3",
   "language": "python",
   "name": "python3"
  },
  "language_info": {
   "codemirror_mode": {
    "name": "ipython",
    "version": 3
   },
   "file_extension": ".py",
   "mimetype": "text/x-python",
   "name": "python",
   "nbconvert_exporter": "python",
   "pygments_lexer": "ipython3",
   "version": "3.13.0"
  }
 },
 "nbformat": 4,
 "nbformat_minor": 2
}
