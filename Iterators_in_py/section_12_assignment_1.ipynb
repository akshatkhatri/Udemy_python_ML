{
 "cells": [
  {
   "cell_type": "code",
   "execution_count": 6,
   "metadata": {},
   "outputs": [
    {
     "name": "stdout",
     "output_type": "stream",
     "text": [
      "9\n",
      "8\n",
      "7\n",
      "6\n",
      "5\n",
      "4\n",
      "3\n",
      "2\n",
      "1\n",
      "0\n"
     ]
    }
   ],
   "source": [
    "# Question - 1 \n",
    "\n",
    "''' \n",
    "To make a class work as an iterator , we have to overload the methods __iter__ and __next__ inside it\n",
    "'''\n",
    "\n",
    "class CountDown:\n",
    "    def __init__(self,num):\n",
    "        self.num = num\n",
    "    \n",
    "    def __iter__(self):\n",
    "        return self\n",
    "    \n",
    "    def __next__(self):\n",
    "        if self.num > 0 :\n",
    "            self.num -= 1\n",
    "            return self.num\n",
    "        else:\n",
    "            raise StopIteration\n",
    "\n",
    "for i in CountDown(10):\n",
    "    print(i)"
   ]
  },
  {
   "cell_type": "code",
   "execution_count": 23,
   "metadata": {},
   "outputs": [
    {
     "name": "stdout",
     "output_type": "stream",
     "text": [
      "0\n",
      "1\n",
      "2\n",
      "3\n",
      "4\n",
      "5\n",
      "6\n",
      "7\n",
      "8\n",
      "9\n"
     ]
    }
   ],
   "source": [
    "# Question - 2\n",
    "\n",
    "class my_range:\n",
    "    def __init__(self,lower,upper = None):\n",
    "        if upper == None:\n",
    "            self.lower = 0\n",
    "            self.upper = lower\n",
    "        else:\n",
    "            self.lower = lower\n",
    "            self.upper = upper\n",
    "\n",
    "    def __iter__(self):\n",
    "        return self\n",
    "    \n",
    "    def __next__(self):\n",
    "        if self.lower >= self.upper:\n",
    "            raise StopIteration\n",
    "        else:\n",
    "            result = self.lower\n",
    "            self.lower += 1\n",
    "            return result\n",
    "        \n",
    "for i in my_range(10):\n",
    "    print(i)"
   ]
  },
  {
   "cell_type": "code",
   "execution_count": 28,
   "metadata": {},
   "outputs": [
    {
     "name": "stdout",
     "output_type": "stream",
     "text": [
      "0\n",
      "1\n",
      "1\n",
      "2\n",
      "3\n",
      "5\n",
      "8\n",
      "13\n",
      "21\n",
      "34\n"
     ]
    }
   ],
   "source": [
    "# Question - 3\n",
    "\n",
    "def fibonacci(n):\n",
    "    first = 0\n",
    "    second = 1\n",
    "    yield 0\n",
    "    yield 1\n",
    "    \n",
    "    for i in range(3,n+1):\n",
    "        result = first + second\n",
    "        first = second\n",
    "        second = result\n",
    "        yield (result)\n",
    "\n",
    "for num in fibonacci(10):\n",
    "    print(num)   "
   ]
  },
  {
   "cell_type": "code",
   "execution_count": 35,
   "metadata": {},
   "outputs": [
    {
     "name": "stdout",
     "output_type": "stream",
     "text": [
      "1\n",
      "4\n",
      "9\n",
      "16\n",
      "25\n",
      "36\n",
      "49\n",
      "64\n",
      "81\n",
      "100\n"
     ]
    }
   ],
   "source": [
    "# Question - 4\n",
    "\n",
    "gen_obj = (num ** 2 for num in range(1,11) if num >= 0)\n",
    "\n",
    "for i in gen_obj:\n",
    "    print(i)"
   ]
  },
  {
   "cell_type": "code",
   "execution_count": 38,
   "metadata": {},
   "outputs": [
    {
     "data": {
      "text/plain": [
       "10"
      ]
     },
     "execution_count": 38,
     "metadata": {},
     "output_type": "execute_result"
    }
   ],
   "source": []
  },
  {
   "cell_type": "code",
   "execution_count": null,
   "metadata": {},
   "outputs": [],
   "source": []
  }
 ],
 "metadata": {
  "kernelspec": {
   "display_name": "Python 3",
   "language": "python",
   "name": "python3"
  },
  "language_info": {
   "codemirror_mode": {
    "name": "ipython",
    "version": 3
   },
   "file_extension": ".py",
   "mimetype": "text/x-python",
   "name": "python",
   "nbconvert_exporter": "python",
   "pygments_lexer": "ipython3",
   "version": "3.13.0"
  }
 },
 "nbformat": 4,
 "nbformat_minor": 2
}
